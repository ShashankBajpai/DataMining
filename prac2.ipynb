{
 "cells": [
  {
   "cell_type": "code",
   "execution_count": 10,
   "metadata": {},
   "outputs": [],
   "source": [
    "import numpy as np\n",
    "import pandas as pd\n",
    "import matplotlib.pyplot as plt"
   ]
  },
  {
   "cell_type": "code",
   "execution_count": 16,
   "metadata": {},
   "outputs": [
    {
     "name": "stdout",
     "output_type": "stream",
     "text": [
      "<class 'pandas.core.frame.DataFrame'>\n",
      "96\n",
      "0.64\n",
      "    Sepal.Length Sepal.Width Petal.Length Petal.Width     Species\n",
      "0            6.4         3.2          4.5         1.5  versicolor\n",
      "1            6.3         3.3            6         2.5   virginica\n",
      "2            6.2          NA          5.4         2.3   virginica\n",
      "3              5         3.4          1.6         0.4      setosa\n",
      "4            5.7         2.6          3.5           1  versicolor\n",
      "..           ...         ...          ...         ...         ...\n",
      "145          6.7         3.1          5.6         2.4   virginica\n",
      "146          5.6           3          4.5         1.5  versicolor\n",
      "147          5.2         3.5          1.5         0.2      setosa\n",
      "148          6.4         3.1           NA         1.8   virginica\n",
      "149          5.8         2.6            4          NA  versicolor\n",
      "\n",
      "[150 rows x 5 columns]\n",
      "No Violation\n",
      "Violation : Non-positive values present\n",
      "3 violations\n",
      "Violation : Petal Length is less than twice of Petal Width in some places\n",
      "2 violations\n",
      "Violation : Sepal Length is greater than 30 cm in some places\n",
      "1 violations\n",
      "Violation : Sepal length is greater than petal length in some places\n",
      "1 violations\n",
      "No Violation\n",
      "Violation : Non-positive values present\n",
      "3 violations\n",
      "Violation : Petal Length is less than twice of Petal Width in some places\n",
      "2 violations\n",
      "Violation : Sepal Length is greater than 30 cm in some places\n",
      "1 violations\n",
      "Violation : Sepal length is greater than petal length in some places\n",
      "1 violations\n"
     ]
    },
    {
     "name": "stderr",
     "output_type": "stream",
     "text": [
      "/usr/lib/python3/dist-packages/ipykernel_launcher.py:23: FutureWarning: DataFrame.ftypes is deprecated and will be removed in a future version. Use DataFrame.dtypes instead.\n"
     ]
    },
    {
     "data": {
      "image/png": "[encoded data removed]",
      "text/plain": [
       "<Figure size 432x288 with 1 Axes>"
      ]
     },
     "metadata": {},
     "output_type": "display_data"
    },
    {
     "data": {
      "image/png": "[encoded data removed]",
      "text/plain": [
       "<Figure size 432x288 with 1 Axes>"
      ]
     },
     "metadata": {},
     "output_type": "display_data"
    }
   ],
   "source": [
    "f = pd.read_csv(\"dirty_iris.txt\")\n",
    "print(f.head())\n",
    "f.head()    \n",
    "f.isnull()   \n",
    "f.dropna()\n",
    "number_complete = len(f.dropna())\n",
    "print(number_complete)\n",
    "complete_percent = len(f.dropna())/len(f)\n",
    "print(complete_percent)\n",
    "f.fillna(value=\"NA\",inplace=True)\n",
    "print(f)\n",
    "def species_check(f) :\n",
    "    species = set([\"setosa\",\"versicolor\",\"virginica\"])\n",
    "    func = lambda r : r in species\n",
    "    x = np.array([func(xi) for xi in f[\"Species\"]])\n",
    "    if (False in x) :\n",
    "        print(\"Violation : Invalid species name\")\n",
    "        print(str(len(x) - np.sum(x)) + \" violations\")\n",
    "    else :\n",
    "        print(\"No Violation\")\n",
    "    return (len(x) - np.sum(x))  \n",
    "species_check(f)\n",
    "f.ftypes\n",
    "temp = pd.read_csv(\"dirty_iris.txt\")\n",
    "temp.dropna(inplace = True)\n",
    "temp\n",
    "def all_positive(f) :\n",
    "    func = lambda r : r>0\n",
    "    a = np.array([func(f[xi]) for xi in f.columns[:-1]])\n",
    "    a = a.reshape(a.shape[0]*a.shape[1])\n",
    "    if (False in a) :\n",
    "        print(\"Violation : Non-positive values present\")\n",
    "        print(str(len(a) - np.sum(a)) + \" violations\")\n",
    "    else :\n",
    "        print(\"No Violation\")\n",
    "    return (len(a) - np.sum(a))\n",
    "all_positive(temp)\n",
    "temp[\"Petal.Length\"]>(2*temp[\"Petal.Width\"])\n",
    "def check_petal(f) :\n",
    "    a = np.array(f[\"Petal.Length\"]>(2*f[\"Petal.Width\"]))\n",
    "    if (False in a) :\n",
    "        print(\"Violation : Petal Length is less than twice of Petal Width in some places\")\n",
    "        print(str(len(a) - np.sum(a)) + \" violations\")\n",
    "    else :\n",
    "        print(\"No Violation\")\n",
    "    return (len(a) - np.sum(a))\n",
    "check_petal(temp)\n",
    "def sepal_check(f) :\n",
    "    a = np.array(f[\"Sepal.Length\"]<=30)\n",
    "    if (False in a) :\n",
    "        print(\"Violation : Sepal Length is greater than 30 cm in some places\")\n",
    "        print(str(len(a) - np.sum(a)) + \" violations\")\n",
    "    else :\n",
    "        print(\"No Violation\")\n",
    "    return (len(a) - np.sum(a))\n",
    "sepal_check(temp)\n",
    "def sepal_petal_check(f) :\n",
    "    a = np.array(f[\"Sepal.Length\"]>f[\"Petal.Length\"])\n",
    "    if (False in a) :\n",
    "        print(\"Violation : Sepal length is greater than petal length in some places\")\n",
    "        print(str(len(a) - np.sum(a)) + \" violations\")\n",
    "    else :\n",
    "        print(\"No Violation\")\n",
    "    return (len(a) - np.sum(a))\n",
    "sepal_petal_check(temp)\n",
    "rules = {\"species_check\" : species_check, \"all_positive\" : all_positive, \"check_petal\" : check_petal, \"sepal_check\" : sepal_check, \"sepal_petal_check\" : sepal_petal_check}\n",
    "x = []\n",
    "for i in rules.keys() :\n",
    "    x.append(rules[i](temp))\n",
    "f.loc[0,:]\n",
    "plt.bar(rules.keys(),x)\n",
    "plt.show()\n",
    "f.describe()\n",
    "temp.describe()\n",
    "z = []\n",
    "for i in range(len(temp.columns)-1) :\n",
    "    z.append(temp[temp.columns[i]])\n",
    "plt.boxplot(z,labels=temp.columns[:-1],patch_artist=True)\n",
    "plt.show()"
   ]
  },
  {
   "cell_type": "code",
   "execution_count": null,
   "metadata": {},
   "outputs": [],
   "source": []
  }
 ],
 "metadata": {
  "kernelspec": {
   "display_name": "Python 3",
   "language": "python",
   "name": "python3"
  },
  "language_info": {
   "codemirror_mode": {
    "name": "ipython",
    "version": 3
   },
   "file_extension": ".py",
   "mimetype": "text/x-python",
   "name": "python",
   "nbconvert_exporter": "python",
   "pygments_lexer": "ipython3",
   "version": "3.6.9"
  }
 },
 "nbformat": 4,
 "nbformat_minor": 2
}
