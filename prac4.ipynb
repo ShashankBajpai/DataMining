{
 "cells": [
  {
   "cell_type": "code",
   "execution_count": 26,
   "metadata": {},
   "outputs": [],
   "source": [
    "import numpy as np\n",
    "import matplotlib.pyplot as plt\n",
    "import pandas as pd\n",
    "from mlxtend.preprocessing import TransactionEncoder\n",
    "from mlxtend.frequent_patterns import apriori"
   ]
  },
  {
   "cell_type": "code",
   "execution_count": 31,
   "metadata": {},
   "outputs": [
    {
     "name": "stdout",
     "output_type": "stream",
     "text": [
      "   support        itemsets\n",
      "0      0.8          (Eggs)\n",
      "1      1.0  (Kidney Beans)\n",
      "2      0.6          (Milk)\n",
      "3      0.6         (Onion)\n",
      "4      0.6        (Yogurt)\n",
      "             antecedents           consequents  antecedent support  \\\n",
      "0                 (Eggs)        (Kidney Beans)                 0.8   \n",
      "1         (Kidney Beans)                (Eggs)                 1.0   \n",
      "2                (Onion)                (Eggs)                 0.6   \n",
      "3                 (Milk)        (Kidney Beans)                 0.6   \n",
      "4                (Onion)        (Kidney Beans)                 0.6   \n",
      "5               (Yogurt)        (Kidney Beans)                 0.6   \n",
      "6          (Onion, Eggs)        (Kidney Beans)                 0.6   \n",
      "7  (Onion, Kidney Beans)                (Eggs)                 0.6   \n",
      "8                (Onion)  (Eggs, Kidney Beans)                 0.6   \n",
      "\n",
      "   consequent support  support  confidence  lift  leverage  conviction  \n",
      "0                 1.0      0.8         1.0  1.00      0.00         inf  \n",
      "1                 0.8      0.8         0.8  1.00      0.00         1.0  \n",
      "2                 0.8      0.6         1.0  1.25      0.12         inf  \n",
      "3                 1.0      0.6         1.0  1.00      0.00         inf  \n",
      "4                 1.0      0.6         1.0  1.00      0.00         inf  \n",
      "5                 1.0      0.6         1.0  1.00      0.00         inf  \n",
      "6                 1.0      0.6         1.0  1.00      0.00         inf  \n",
      "7                 0.8      0.6         1.0  1.25      0.12         inf  \n",
      "8                 0.8      0.6         1.0  1.25      0.12         inf  \n",
      "   support        itemsets\n",
      "0      0.8          (Eggs)\n",
      "1      1.0  (Kidney Beans)\n",
      "2      0.6          (Milk)\n",
      "3      0.6         (Onion)\n",
      "4      0.6        (Yogurt)\n",
      "              antecedents            consequents  antecedent support  \\\n",
      "0                  (Eggs)         (Kidney Beans)                 0.8   \n",
      "1          (Kidney Beans)                 (Eggs)                 1.0   \n",
      "2                 (Onion)                 (Eggs)                 0.6   \n",
      "3                  (Eggs)                (Onion)                 0.8   \n",
      "4          (Kidney Beans)                 (Milk)                 1.0   \n",
      "5                  (Milk)         (Kidney Beans)                 0.6   \n",
      "6                 (Onion)         (Kidney Beans)                 0.6   \n",
      "7          (Kidney Beans)                (Onion)                 1.0   \n",
      "8                (Yogurt)         (Kidney Beans)                 0.6   \n",
      "9          (Kidney Beans)               (Yogurt)                 1.0   \n",
      "10          (Onion, Eggs)         (Kidney Beans)                 0.6   \n",
      "11  (Onion, Kidney Beans)                 (Eggs)                 0.6   \n",
      "12   (Eggs, Kidney Beans)                (Onion)                 0.8   \n",
      "13                (Onion)   (Eggs, Kidney Beans)                 0.6   \n",
      "14                 (Eggs)  (Onion, Kidney Beans)                 0.8   \n",
      "15         (Kidney Beans)          (Onion, Eggs)                 1.0   \n",
      "\n",
      "    consequent support  support  confidence  lift  leverage  conviction  \n",
      "0                  1.0      0.8        1.00  1.00      0.00         inf  \n",
      "1                  0.8      0.8        0.80  1.00      0.00         1.0  \n",
      "2                  0.8      0.6        1.00  1.25      0.12         inf  \n",
      "3                  0.6      0.6        0.75  1.25      0.12         1.6  \n",
      "4                  0.6      0.6        0.60  1.00      0.00         1.0  \n",
      "5                  1.0      0.6        1.00  1.00      0.00         inf  \n",
      "6                  1.0      0.6        1.00  1.00      0.00         inf  \n",
      "7                  0.6      0.6        0.60  1.00      0.00         1.0  \n",
      "8                  1.0      0.6        1.00  1.00      0.00         inf  \n",
      "9                  0.6      0.6        0.60  1.00      0.00         1.0  \n",
      "10                 1.0      0.6        1.00  1.00      0.00         inf  \n",
      "11                 0.8      0.6        1.00  1.25      0.12         inf  \n",
      "12                 0.6      0.6        0.75  1.25      0.12         1.6  \n",
      "13                 0.8      0.6        1.00  1.25      0.12         inf  \n",
      "14                 0.6      0.6        0.75  1.25      0.12         1.6  \n",
      "15                 0.6      0.6        0.60  1.00      0.00         1.0  \n"
     ]
    }
   ],
   "source": [
    "import pandas as pd\n",
    " \n",
    "    \n",
    "dataset = [['Milk', 'Onion', 'Nutmeg', 'Kidney Beans', 'Eggs', 'Yogurt'],\n",
    "               ['Dill', 'Onion', 'Nutmeg', 'Kidney Beans', 'Eggs', 'Yogurt'],\n",
    "               ['Milk', 'Apple', 'Kidney Beans', 'Eggs'],\n",
    "               ['Milk', 'Unicorn', 'Corn', 'Kidney Beans', 'Yogurt'],\n",
    "               ['Corn', 'Onion', 'Onion', 'Kidney Beans', 'Ice cream', 'Eggs']]\n",
    "    \n",
    "te = TransactionEncoder()\n",
    "te_ary = te.fit(dataset).transform(dataset)\n",
    "df = pd.DataFrame(te_ary, columns=te.columns_)\n",
    "    \n",
    "frequent_itemsets = apriori(df, min_support=0.5, use_colnames=True)\n",
    "print(frequent_itemsets.head())\n",
    "    \n",
    "from mlxtend.frequent_patterns import association_rules\n",
    "print(association_rules(frequent_itemsets, metric=\"confidence\", min_threshold=0.75))\n",
    "    \n",
    "frequent_itemsets = apriori(df, min_support=0.6, use_colnames=True)\n",
    "print(frequent_itemsets.head())\n",
    "    \n",
    "from mlxtend.frequent_patterns import association_rules\n",
    "print(association_rules(frequent_itemsets, metric=\"confidence\", min_threshold=0.6))"
   ]
  },
  {
   "cell_type": "code",
   "execution_count": 28,
   "metadata": {},
   "outputs": [
    {
     "name": "stdout",
     "output_type": "stream",
     "text": [
      "[[False False False  True False  True  True  True  True False  True]\n",
      " [False False  True  True False  True False  True  True False  True]\n",
      " [ True False False  True False  True  True False False False False]\n",
      " [False  True False False False  True  True False False  True  True]\n",
      " [False  True False  True  True  True False False  True False False]]\n"
     ]
    }
   ],
   "source": [
    "print(te_ary)"
   ]
  },
  {
   "cell_type": "code",
   "execution_count": null,
   "metadata": {},
   "outputs": [],
   "source": [
    "data = pd.read_csv('')"
   ]
  }
 ],
 "metadata": {
  "kernelspec": {
   "display_name": "Python 3",
   "language": "python",
   "name": "python3"
  },
  "language_info": {
   "codemirror_mode": {
    "name": "ipython",
    "version": 3
   },
   "file_extension": ".py",
   "mimetype": "text/x-python",
   "name": "python",
   "nbconvert_exporter": "python",
   "pygments_lexer": "ipython3",
   "version": "3.6.9"
  }
 },
 "nbformat": 4,
 "nbformat_minor": 2
}
